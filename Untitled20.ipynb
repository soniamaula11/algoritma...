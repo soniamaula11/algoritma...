{
 "cells": [
  {
   "cell_type": "code",
   "execution_count": 3,
   "id": "6ae55553-620e-4fd1-9230-453756e6b1ca",
   "metadata": {},
   "outputs": [
    {
     "name": "stdout",
     "output_type": "stream",
     "text": [
      "Data yang sudah diurutkan: [11, 12, 22, 25, 34, 64, 90]\n"
     ]
    }
   ],
   "source": [
    "def recursive_bubble_sort(arr, n=None):\n",
    "    if n is None:\n",
    "        n = len(arr)\n",
    "    if n == 1:\n",
    "        return arr\n",
    "    for i in range(n - 1):\n",
    "        if arr[i] > arr[i + 1]:\n",
    "            arr[i], arr[i + 1] = arr[i + 1], arr[i]\n",
    "    return recursive_bubble_sort(arr, n - 1)\n",
    "data = [64, 34, 25, 12, 22, 11, 90]\n",
    "sorted_data = recursive_bubble_sort(data)\n",
    "print(\"Data yang sudah diurutkan:\", sorted_data)"
   ]
  },
  {
   "cell_type": "code",
   "execution_count": null,
   "id": "44e685ca-2467-4253-9ba4-14afe29c19bc",
   "metadata": {},
   "outputs": [],
   "source": []
  }
 ],
 "metadata": {
  "kernelspec": {
   "display_name": "Python 3 (ipykernel)",
   "language": "python",
   "name": "python3"
  },
  "language_info": {
   "codemirror_mode": {
    "name": "ipython",
    "version": 3
   },
   "file_extension": ".py",
   "mimetype": "text/x-python",
   "name": "python",
   "nbconvert_exporter": "python",
   "pygments_lexer": "ipython3",
   "version": "3.12.4"
  }
 },
 "nbformat": 4,
 "nbformat_minor": 5
}
