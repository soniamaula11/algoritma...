{
 "cells": [
  {
   "cell_type": "code",
   "execution_count": 1,
   "id": "6f4092ee-ac0f-47f4-bbf3-c9a24851fbae",
   "metadata": {},
   "outputs": [
    {
     "name": "stdout",
     "output_type": "stream",
     "text": [
      "Angka yang di cari: "
     ]
    },
    {
     "name": "stdin",
     "output_type": "stream",
     "text": [
      " 2\n"
     ]
    },
    {
     "name": "stdout",
     "output_type": "stream",
     "text": [
      "Setelah BubbleSort:  [2, 15, 23, 28, 31, 34, 56, 87, 89, 200]\n",
      "Elemen ditemukan pada posisi ke-1\n"
     ]
    }
   ],
   "source": [
    "# List input (acak)\n",
    "data = [31, 2, 56, 28, 15, 200, 23, 87, 34, 89]\n",
    "\n",
    "# Memasukkan angka yang ingin dicari\n",
    "print(\"Angka yang di cari: \", end=\"\")\n",
    "target = int(input())\n",
    "\n",
    "# Bubble Sort\n",
    "n = len(data)\n",
    "for i in range(n):\n",
    "    for j in range(0, n-i-1):\n",
    "        if data[j] > data[j+1]:\n",
    "            data[j], data[j+1] = data[j+1], data[j]\n",
    "\n",
    "print(\"Setelah BubbleSort: \", data)\n",
    "\n",
    "# Binary Search\n",
    "left = 0\n",
    "right = len(data) - 1\n",
    "found = False\n",
    "while left <= right:\n",
    "    mid = (left + right) // 2\n",
    "    if data[mid] == target:\n",
    "        print(f\"Elemen ditemukan pada posisi ke-{mid + 1}\")\n",
    "        found = True\n",
    "        break\n",
    "    elif data[mid] < target:\n",
    "        left = mid + 1\n",
    "    else:\n",
    "        right = mid - 1\n",
    "\n",
    "if not found:\n",
    "    print(\"Elemen tidak ditemukan pada list\")"
   ]
  },
  {
   "cell_type": "code",
   "execution_count": null,
   "id": "a8381e47-dcd6-4e02-b580-a03070b3a241",
   "metadata": {},
   "outputs": [],
   "source": []
  }
 ],
 "metadata": {
  "kernelspec": {
   "display_name": "Python 3 (ipykernel)",
   "language": "python",
   "name": "python3"
  },
  "language_info": {
   "codemirror_mode": {
    "name": "ipython",
    "version": 3
   },
   "file_extension": ".py",
   "mimetype": "text/x-python",
   "name": "python",
   "nbconvert_exporter": "python",
   "pygments_lexer": "ipython3",
   "version": "3.12.4"
  }
 },
 "nbformat": 4,
 "nbformat_minor": 5
}
